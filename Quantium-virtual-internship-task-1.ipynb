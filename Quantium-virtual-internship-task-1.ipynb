{
 "cells": [
  {
   "cell_type": "markdown",
   "metadata": {},
   "source": [
    "# Task1 Data Preparation and customer analytics"
   ]
  },
  {
   "cell_type": "markdown",
   "metadata": {},
   "source": [
    "Fristly, we need to do the high level data checks such as:\n",
    "* Creating and interpreting high level summaries of the data\n",
    "* Finding outliers and removing these \n",
    "* Checking data formats and correcting \n",
    "\n",
    "Then we need to derive extra features from the data and define metrics of interest to draw insights on who spends on chips and what drives spends for each customer segment.Finally we need to form a strategy based on the findings and provide a clear recommendation to Julia the Category Manager so our insights should have a commercial application."
   ]
  },
  {
   "cell_type": "code",
   "execution_count": 1,
   "metadata": {},
   "outputs": [],
   "source": [
    "#Import neccessary library \n",
    "import pandas as pd\n",
    "import numpy as np\n",
    "import matplotlib.pyplot as plt\n",
    "%matplotlib inline\n",
    "import seaborn as sns"
   ]
  },
  {
   "cell_type": "code",
   "execution_count": 2,
   "metadata": {},
   "outputs": [
    {
     "name": "stdout",
     "output_type": "stream",
     "text": [
      "(264836, 8)\n"
     ]
    },
    {
     "data": {
      "text/html": [
       "<div>\n",
       "<style scoped>\n",
       "    .dataframe tbody tr th:only-of-type {\n",
       "        vertical-align: middle;\n",
       "    }\n",
       "\n",
       "    .dataframe tbody tr th {\n",
       "        vertical-align: top;\n",
       "    }\n",
       "\n",
       "    .dataframe thead th {\n",
       "        text-align: right;\n",
       "    }\n",
       "</style>\n",
       "<table border=\"1\" class=\"dataframe\">\n",
       "  <thead>\n",
       "    <tr style=\"text-align: right;\">\n",
       "      <th></th>\n",
       "      <th>DATE</th>\n",
       "      <th>STORE_NBR</th>\n",
       "      <th>LYLTY_CARD_NBR</th>\n",
       "      <th>TXN_ID</th>\n",
       "      <th>PROD_NBR</th>\n",
       "      <th>PROD_NAME</th>\n",
       "      <th>PROD_QTY</th>\n",
       "      <th>TOT_SALES</th>\n",
       "    </tr>\n",
       "  </thead>\n",
       "  <tbody>\n",
       "    <tr>\n",
       "      <th>0</th>\n",
       "      <td>43390</td>\n",
       "      <td>1</td>\n",
       "      <td>1000</td>\n",
       "      <td>1</td>\n",
       "      <td>5</td>\n",
       "      <td>Natural Chip        Compny SeaSalt175g</td>\n",
       "      <td>2</td>\n",
       "      <td>6.0</td>\n",
       "    </tr>\n",
       "    <tr>\n",
       "      <th>1</th>\n",
       "      <td>43599</td>\n",
       "      <td>1</td>\n",
       "      <td>1307</td>\n",
       "      <td>348</td>\n",
       "      <td>66</td>\n",
       "      <td>CCs Nacho Cheese    175g</td>\n",
       "      <td>3</td>\n",
       "      <td>6.3</td>\n",
       "    </tr>\n",
       "    <tr>\n",
       "      <th>2</th>\n",
       "      <td>43605</td>\n",
       "      <td>1</td>\n",
       "      <td>1343</td>\n",
       "      <td>383</td>\n",
       "      <td>61</td>\n",
       "      <td>Smiths Crinkle Cut  Chips Chicken 170g</td>\n",
       "      <td>2</td>\n",
       "      <td>2.9</td>\n",
       "    </tr>\n",
       "    <tr>\n",
       "      <th>3</th>\n",
       "      <td>43329</td>\n",
       "      <td>2</td>\n",
       "      <td>2373</td>\n",
       "      <td>974</td>\n",
       "      <td>69</td>\n",
       "      <td>Smiths Chip Thinly  S/Cream&amp;Onion 175g</td>\n",
       "      <td>5</td>\n",
       "      <td>15.0</td>\n",
       "    </tr>\n",
       "    <tr>\n",
       "      <th>4</th>\n",
       "      <td>43330</td>\n",
       "      <td>2</td>\n",
       "      <td>2426</td>\n",
       "      <td>1038</td>\n",
       "      <td>108</td>\n",
       "      <td>Kettle Tortilla ChpsHny&amp;Jlpno Chili 150g</td>\n",
       "      <td>3</td>\n",
       "      <td>13.8</td>\n",
       "    </tr>\n",
       "  </tbody>\n",
       "</table>\n",
       "</div>"
      ],
      "text/plain": [
       "    DATE  STORE_NBR  LYLTY_CARD_NBR  TXN_ID  PROD_NBR  \\\n",
       "0  43390          1            1000       1         5   \n",
       "1  43599          1            1307     348        66   \n",
       "2  43605          1            1343     383        61   \n",
       "3  43329          2            2373     974        69   \n",
       "4  43330          2            2426    1038       108   \n",
       "\n",
       "                                  PROD_NAME  PROD_QTY  TOT_SALES  \n",
       "0    Natural Chip        Compny SeaSalt175g         2        6.0  \n",
       "1                  CCs Nacho Cheese    175g         3        6.3  \n",
       "2    Smiths Crinkle Cut  Chips Chicken 170g         2        2.9  \n",
       "3    Smiths Chip Thinly  S/Cream&Onion 175g         5       15.0  \n",
       "4  Kettle Tortilla ChpsHny&Jlpno Chili 150g         3       13.8  "
      ]
     },
     "execution_count": 2,
     "metadata": {},
     "output_type": "execute_result"
    }
   ],
   "source": [
    "#Import the transaction data \n",
    "transaction = pd.read_excel(\"QVI_transaction_data.xlsx\")\n",
    "print(transaction.shape)\n",
    "transaction.head()"
   ]
  },
  {
   "cell_type": "code",
   "execution_count": 3,
   "metadata": {},
   "outputs": [
    {
     "name": "stdout",
     "output_type": "stream",
     "text": [
      "(72637, 3)\n"
     ]
    },
    {
     "data": {
      "text/html": [
       "<div>\n",
       "<style scoped>\n",
       "    .dataframe tbody tr th:only-of-type {\n",
       "        vertical-align: middle;\n",
       "    }\n",
       "\n",
       "    .dataframe tbody tr th {\n",
       "        vertical-align: top;\n",
       "    }\n",
       "\n",
       "    .dataframe thead th {\n",
       "        text-align: right;\n",
       "    }\n",
       "</style>\n",
       "<table border=\"1\" class=\"dataframe\">\n",
       "  <thead>\n",
       "    <tr style=\"text-align: right;\">\n",
       "      <th></th>\n",
       "      <th>LYLTY_CARD_NBR</th>\n",
       "      <th>LIFESTAGE</th>\n",
       "      <th>PREMIUM_CUSTOMER</th>\n",
       "    </tr>\n",
       "  </thead>\n",
       "  <tbody>\n",
       "    <tr>\n",
       "      <th>0</th>\n",
       "      <td>1000</td>\n",
       "      <td>YOUNG SINGLES/COUPLES</td>\n",
       "      <td>Premium</td>\n",
       "    </tr>\n",
       "    <tr>\n",
       "      <th>1</th>\n",
       "      <td>1002</td>\n",
       "      <td>YOUNG SINGLES/COUPLES</td>\n",
       "      <td>Mainstream</td>\n",
       "    </tr>\n",
       "    <tr>\n",
       "      <th>2</th>\n",
       "      <td>1003</td>\n",
       "      <td>YOUNG FAMILIES</td>\n",
       "      <td>Budget</td>\n",
       "    </tr>\n",
       "    <tr>\n",
       "      <th>3</th>\n",
       "      <td>1004</td>\n",
       "      <td>OLDER SINGLES/COUPLES</td>\n",
       "      <td>Mainstream</td>\n",
       "    </tr>\n",
       "    <tr>\n",
       "      <th>4</th>\n",
       "      <td>1005</td>\n",
       "      <td>MIDAGE SINGLES/COUPLES</td>\n",
       "      <td>Mainstream</td>\n",
       "    </tr>\n",
       "  </tbody>\n",
       "</table>\n",
       "</div>"
      ],
      "text/plain": [
       "   LYLTY_CARD_NBR               LIFESTAGE PREMIUM_CUSTOMER\n",
       "0            1000   YOUNG SINGLES/COUPLES          Premium\n",
       "1            1002   YOUNG SINGLES/COUPLES       Mainstream\n",
       "2            1003          YOUNG FAMILIES           Budget\n",
       "3            1004   OLDER SINGLES/COUPLES       Mainstream\n",
       "4            1005  MIDAGE SINGLES/COUPLES       Mainstream"
      ]
     },
     "execution_count": 3,
     "metadata": {},
     "output_type": "execute_result"
    }
   ],
   "source": [
    "#Import the Purchase data\n",
    "purchase = pd.read_csv(\"QVI_purchase_behaviour.csv\")\n",
    "print(purchase.shape)\n",
    "purchase.head()"
   ]
  },
  {
   "cell_type": "code",
   "execution_count": 4,
   "metadata": {
    "scrolled": false
   },
   "outputs": [
    {
     "data": {
      "text/html": [
       "<div>\n",
       "<style scoped>\n",
       "    .dataframe tbody tr th:only-of-type {\n",
       "        vertical-align: middle;\n",
       "    }\n",
       "\n",
       "    .dataframe tbody tr th {\n",
       "        vertical-align: top;\n",
       "    }\n",
       "\n",
       "    .dataframe thead th {\n",
       "        text-align: right;\n",
       "    }\n",
       "</style>\n",
       "<table border=\"1\" class=\"dataframe\">\n",
       "  <thead>\n",
       "    <tr style=\"text-align: right;\">\n",
       "      <th></th>\n",
       "      <th>LYLTY_CARD_NBR</th>\n",
       "      <th>LIFESTAGE</th>\n",
       "      <th>PREMIUM_CUSTOMER</th>\n",
       "      <th>DATE</th>\n",
       "      <th>STORE_NBR</th>\n",
       "      <th>TXN_ID</th>\n",
       "      <th>PROD_NBR</th>\n",
       "      <th>PROD_NAME</th>\n",
       "      <th>PROD_QTY</th>\n",
       "      <th>TOT_SALES</th>\n",
       "    </tr>\n",
       "  </thead>\n",
       "  <tbody>\n",
       "    <tr>\n",
       "      <th>0</th>\n",
       "      <td>1000</td>\n",
       "      <td>YOUNG SINGLES/COUPLES</td>\n",
       "      <td>Premium</td>\n",
       "      <td>43390</td>\n",
       "      <td>1</td>\n",
       "      <td>1</td>\n",
       "      <td>5</td>\n",
       "      <td>Natural Chip        Compny SeaSalt175g</td>\n",
       "      <td>2</td>\n",
       "      <td>6.0</td>\n",
       "    </tr>\n",
       "    <tr>\n",
       "      <th>1</th>\n",
       "      <td>1002</td>\n",
       "      <td>YOUNG SINGLES/COUPLES</td>\n",
       "      <td>Mainstream</td>\n",
       "      <td>43359</td>\n",
       "      <td>1</td>\n",
       "      <td>2</td>\n",
       "      <td>58</td>\n",
       "      <td>Red Rock Deli Chikn&amp;Garlic Aioli 150g</td>\n",
       "      <td>1</td>\n",
       "      <td>2.7</td>\n",
       "    </tr>\n",
       "    <tr>\n",
       "      <th>2</th>\n",
       "      <td>1003</td>\n",
       "      <td>YOUNG FAMILIES</td>\n",
       "      <td>Budget</td>\n",
       "      <td>43531</td>\n",
       "      <td>1</td>\n",
       "      <td>3</td>\n",
       "      <td>52</td>\n",
       "      <td>Grain Waves Sour    Cream&amp;Chives 210G</td>\n",
       "      <td>1</td>\n",
       "      <td>3.6</td>\n",
       "    </tr>\n",
       "    <tr>\n",
       "      <th>3</th>\n",
       "      <td>1003</td>\n",
       "      <td>YOUNG FAMILIES</td>\n",
       "      <td>Budget</td>\n",
       "      <td>43532</td>\n",
       "      <td>1</td>\n",
       "      <td>4</td>\n",
       "      <td>106</td>\n",
       "      <td>Natural ChipCo      Hony Soy Chckn175g</td>\n",
       "      <td>1</td>\n",
       "      <td>3.0</td>\n",
       "    </tr>\n",
       "    <tr>\n",
       "      <th>4</th>\n",
       "      <td>1004</td>\n",
       "      <td>OLDER SINGLES/COUPLES</td>\n",
       "      <td>Mainstream</td>\n",
       "      <td>43406</td>\n",
       "      <td>1</td>\n",
       "      <td>5</td>\n",
       "      <td>96</td>\n",
       "      <td>WW Original Stacked Chips 160g</td>\n",
       "      <td>1</td>\n",
       "      <td>1.9</td>\n",
       "    </tr>\n",
       "  </tbody>\n",
       "</table>\n",
       "</div>"
      ],
      "text/plain": [
       "   LYLTY_CARD_NBR              LIFESTAGE PREMIUM_CUSTOMER   DATE  STORE_NBR  \\\n",
       "0            1000  YOUNG SINGLES/COUPLES          Premium  43390          1   \n",
       "1            1002  YOUNG SINGLES/COUPLES       Mainstream  43359          1   \n",
       "2            1003         YOUNG FAMILIES           Budget  43531          1   \n",
       "3            1003         YOUNG FAMILIES           Budget  43532          1   \n",
       "4            1004  OLDER SINGLES/COUPLES       Mainstream  43406          1   \n",
       "\n",
       "   TXN_ID  PROD_NBR                               PROD_NAME  PROD_QTY  \\\n",
       "0       1         5  Natural Chip        Compny SeaSalt175g         2   \n",
       "1       2        58   Red Rock Deli Chikn&Garlic Aioli 150g         1   \n",
       "2       3        52   Grain Waves Sour    Cream&Chives 210G         1   \n",
       "3       4       106  Natural ChipCo      Hony Soy Chckn175g         1   \n",
       "4       5        96          WW Original Stacked Chips 160g         1   \n",
       "\n",
       "   TOT_SALES  \n",
       "0        6.0  \n",
       "1        2.7  \n",
       "2        3.6  \n",
       "3        3.0  \n",
       "4        1.9  "
      ]
     },
     "execution_count": 4,
     "metadata": {},
     "output_type": "execute_result"
    }
   ],
   "source": [
    "#Merge the two dataset \n",
    "merged=pd.merge(purchase,transaction,on=\"LYLTY_CARD_NBR\",how=\"outer\")\n",
    "merged.head()"
   ]
  },
  {
   "cell_type": "markdown",
   "metadata": {},
   "source": [
    "After load the data,we need to do the data wrangling which is assess and clean the data.Firstly, let's check the data quality and tidiness including the data formats, missing data and data validity."
   ]
  },
  {
   "cell_type": "code",
   "execution_count": 5,
   "metadata": {},
   "outputs": [
    {
     "data": {
      "text/plain": [
       "(264836, 10)"
      ]
     },
     "execution_count": 5,
     "metadata": {},
     "output_type": "execute_result"
    }
   ],
   "source": [
    "#Check the merged dataframse shape\n",
    "merged.shape"
   ]
  },
  {
   "cell_type": "code",
   "execution_count": 6,
   "metadata": {},
   "outputs": [
    {
     "data": {
      "text/plain": [
       "1"
      ]
     },
     "execution_count": 6,
     "metadata": {},
     "output_type": "execute_result"
    }
   ],
   "source": [
    "#Check the duplicate data\n",
    "merged.duplicated().sum()"
   ]
  },
  {
   "cell_type": "code",
   "execution_count": 7,
   "metadata": {},
   "outputs": [],
   "source": [
    "#Drop the duplicate data \n",
    "merged.drop_duplicates(inplace=True)"
   ]
  },
  {
   "cell_type": "code",
   "execution_count": 8,
   "metadata": {},
   "outputs": [
    {
     "data": {
      "text/plain": [
       "0"
      ]
     },
     "execution_count": 8,
     "metadata": {},
     "output_type": "execute_result"
    }
   ],
   "source": [
    "#Check the duplicate data again\n",
    "merged.duplicated().sum()"
   ]
  },
  {
   "cell_type": "code",
   "execution_count": 9,
   "metadata": {},
   "outputs": [
    {
     "data": {
      "text/plain": [
       "(264835, 10)"
      ]
     },
     "execution_count": 9,
     "metadata": {},
     "output_type": "execute_result"
    }
   ],
   "source": [
    "#Check the merged dataframes shape\n",
    "merged.shape"
   ]
  },
  {
   "cell_type": "code",
   "execution_count": 10,
   "metadata": {},
   "outputs": [
    {
     "name": "stdout",
     "output_type": "stream",
     "text": [
      "<class 'pandas.core.frame.DataFrame'>\n",
      "Int64Index: 264835 entries, 0 to 264835\n",
      "Data columns (total 10 columns):\n",
      " #   Column            Non-Null Count   Dtype  \n",
      "---  ------            --------------   -----  \n",
      " 0   LYLTY_CARD_NBR    264835 non-null  int64  \n",
      " 1   LIFESTAGE         264835 non-null  object \n",
      " 2   PREMIUM_CUSTOMER  264835 non-null  object \n",
      " 3   DATE              264835 non-null  int64  \n",
      " 4   STORE_NBR         264835 non-null  int64  \n",
      " 5   TXN_ID            264835 non-null  int64  \n",
      " 6   PROD_NBR          264835 non-null  int64  \n",
      " 7   PROD_NAME         264835 non-null  object \n",
      " 8   PROD_QTY          264835 non-null  int64  \n",
      " 9   TOT_SALES         264835 non-null  float64\n",
      "dtypes: float64(1), int64(6), object(3)\n",
      "memory usage: 22.2+ MB\n"
     ]
    }
   ],
   "source": [
    "#Check the basic information of the dataframe\n",
    "merged.info()"
   ]
  },
  {
   "cell_type": "markdown",
   "metadata": {},
   "source": [
    "There are few erroneous datatype such as DATE should be datetime, LYLTY_CARD_NBR,STORE_NBR,TXN_ID and PROD_NBR should be string."
   ]
  },
  {
   "cell_type": "code",
   "execution_count": 11,
   "metadata": {},
   "outputs": [],
   "source": [
    "from datetime import date, timedelta\n",
    "start = date(1899,12,30)\n",
    "\n",
    "new_date_format = []\n",
    "\n",
    "for date in merged[\"DATE\"]:\n",
    "    delta = timedelta(date)\n",
    "    new_date_format.append(start + delta)"
   ]
  },
  {
   "cell_type": "code",
   "execution_count": 12,
   "metadata": {},
   "outputs": [],
   "source": [
    "#Change the data type to the correct datatype\n",
    "merged.LYLTY_CARD_NBR=merged.LYLTY_CARD_NBR.astype('str')\n",
    "merged.STORE_NBR=merged.STORE_NBR.astype('str')\n",
    "merged.TXN_ID=merged.TXN_ID.astype('str')\n",
    "merged.PROD_NBR=merged.PROD_NBR.astype('str')\n",
    "merged.LIFESTAGE=merged.LIFESTAGE.astype(\"category\")\n",
    "merged.PREMIUM_CUSTOMER=merged.PREMIUM_CUSTOMER.astype(\"category\")\n",
    "merged.DATE=pd.to_datetime(pd.Series(new_date_format))"
   ]
  },
  {
   "cell_type": "code",
   "execution_count": 13,
   "metadata": {
    "scrolled": true
   },
   "outputs": [
    {
     "name": "stdout",
     "output_type": "stream",
     "text": [
      "<class 'pandas.core.frame.DataFrame'>\n",
      "Int64Index: 264835 entries, 0 to 264835\n",
      "Data columns (total 10 columns):\n",
      " #   Column            Non-Null Count   Dtype         \n",
      "---  ------            --------------   -----         \n",
      " 0   LYLTY_CARD_NBR    264835 non-null  object        \n",
      " 1   LIFESTAGE         264835 non-null  category      \n",
      " 2   PREMIUM_CUSTOMER  264835 non-null  category      \n",
      " 3   DATE              264834 non-null  datetime64[ns]\n",
      " 4   STORE_NBR         264835 non-null  object        \n",
      " 5   TXN_ID            264835 non-null  object        \n",
      " 6   PROD_NBR          264835 non-null  object        \n",
      " 7   PROD_NAME         264835 non-null  object        \n",
      " 8   PROD_QTY          264835 non-null  int64         \n",
      " 9   TOT_SALES         264835 non-null  float64       \n",
      "dtypes: category(2), datetime64[ns](1), float64(1), int64(1), object(5)\n",
      "memory usage: 18.7+ MB\n"
     ]
    }
   ],
   "source": [
    "#Check the data type after change\n",
    "merged.info()"
   ]
  },
  {
   "cell_type": "code",
   "execution_count": 14,
   "metadata": {},
   "outputs": [
    {
     "data": {
      "text/html": [
       "<div>\n",
       "<style scoped>\n",
       "    .dataframe tbody tr th:only-of-type {\n",
       "        vertical-align: middle;\n",
       "    }\n",
       "\n",
       "    .dataframe tbody tr th {\n",
       "        vertical-align: top;\n",
       "    }\n",
       "\n",
       "    .dataframe thead th {\n",
       "        text-align: right;\n",
       "    }\n",
       "</style>\n",
       "<table border=\"1\" class=\"dataframe\">\n",
       "  <thead>\n",
       "    <tr style=\"text-align: right;\">\n",
       "      <th></th>\n",
       "      <th>LYLTY_CARD_NBR</th>\n",
       "      <th>LIFESTAGE</th>\n",
       "      <th>PREMIUM_CUSTOMER</th>\n",
       "      <th>DATE</th>\n",
       "      <th>STORE_NBR</th>\n",
       "      <th>TXN_ID</th>\n",
       "      <th>PROD_NBR</th>\n",
       "      <th>PROD_NAME</th>\n",
       "      <th>PROD_QTY</th>\n",
       "      <th>TOT_SALES</th>\n",
       "      <th>PROD_WEIGHT</th>\n",
       "    </tr>\n",
       "  </thead>\n",
       "  <tbody>\n",
       "    <tr>\n",
       "      <th>0</th>\n",
       "      <td>1000</td>\n",
       "      <td>YOUNG SINGLES/COUPLES</td>\n",
       "      <td>Premium</td>\n",
       "      <td>2018-10-17</td>\n",
       "      <td>1</td>\n",
       "      <td>1</td>\n",
       "      <td>5</td>\n",
       "      <td>Natural Chip        Compny SeaSalt175g</td>\n",
       "      <td>2</td>\n",
       "      <td>6.0</td>\n",
       "      <td>175.0</td>\n",
       "    </tr>\n",
       "    <tr>\n",
       "      <th>1</th>\n",
       "      <td>1002</td>\n",
       "      <td>YOUNG SINGLES/COUPLES</td>\n",
       "      <td>Mainstream</td>\n",
       "      <td>2018-09-16</td>\n",
       "      <td>1</td>\n",
       "      <td>2</td>\n",
       "      <td>58</td>\n",
       "      <td>Red Rock Deli Chikn&amp;Garlic Aioli 150g</td>\n",
       "      <td>1</td>\n",
       "      <td>2.7</td>\n",
       "      <td>175.0</td>\n",
       "    </tr>\n",
       "    <tr>\n",
       "      <th>2</th>\n",
       "      <td>1003</td>\n",
       "      <td>YOUNG FAMILIES</td>\n",
       "      <td>Budget</td>\n",
       "      <td>2019-03-07</td>\n",
       "      <td>1</td>\n",
       "      <td>3</td>\n",
       "      <td>52</td>\n",
       "      <td>Grain Waves Sour    Cream&amp;Chives 210G</td>\n",
       "      <td>1</td>\n",
       "      <td>3.6</td>\n",
       "      <td>170.0</td>\n",
       "    </tr>\n",
       "    <tr>\n",
       "      <th>3</th>\n",
       "      <td>1003</td>\n",
       "      <td>YOUNG FAMILIES</td>\n",
       "      <td>Budget</td>\n",
       "      <td>2019-03-08</td>\n",
       "      <td>1</td>\n",
       "      <td>4</td>\n",
       "      <td>106</td>\n",
       "      <td>Natural ChipCo      Hony Soy Chckn175g</td>\n",
       "      <td>1</td>\n",
       "      <td>3.0</td>\n",
       "      <td>175.0</td>\n",
       "    </tr>\n",
       "    <tr>\n",
       "      <th>4</th>\n",
       "      <td>1004</td>\n",
       "      <td>OLDER SINGLES/COUPLES</td>\n",
       "      <td>Mainstream</td>\n",
       "      <td>2018-11-02</td>\n",
       "      <td>1</td>\n",
       "      <td>5</td>\n",
       "      <td>96</td>\n",
       "      <td>WW Original Stacked Chips 160g</td>\n",
       "      <td>1</td>\n",
       "      <td>1.9</td>\n",
       "      <td>150.0</td>\n",
       "    </tr>\n",
       "  </tbody>\n",
       "</table>\n",
       "</div>"
      ],
      "text/plain": [
       "  LYLTY_CARD_NBR              LIFESTAGE PREMIUM_CUSTOMER       DATE STORE_NBR  \\\n",
       "0           1000  YOUNG SINGLES/COUPLES          Premium 2018-10-17         1   \n",
       "1           1002  YOUNG SINGLES/COUPLES       Mainstream 2018-09-16         1   \n",
       "2           1003         YOUNG FAMILIES           Budget 2019-03-07         1   \n",
       "3           1003         YOUNG FAMILIES           Budget 2019-03-08         1   \n",
       "4           1004  OLDER SINGLES/COUPLES       Mainstream 2018-11-02         1   \n",
       "\n",
       "  TXN_ID PROD_NBR                               PROD_NAME  PROD_QTY  \\\n",
       "0      1        5  Natural Chip        Compny SeaSalt175g         2   \n",
       "1      2       58   Red Rock Deli Chikn&Garlic Aioli 150g         1   \n",
       "2      3       52   Grain Waves Sour    Cream&Chives 210G         1   \n",
       "3      4      106  Natural ChipCo      Hony Soy Chckn175g         1   \n",
       "4      5       96          WW Original Stacked Chips 160g         1   \n",
       "\n",
       "   TOT_SALES  PROD_WEIGHT  \n",
       "0        6.0        175.0  \n",
       "1        2.7        175.0  \n",
       "2        3.6        170.0  \n",
       "3        3.0        175.0  \n",
       "4        1.9        150.0  "
      ]
     },
     "execution_count": 14,
     "metadata": {},
     "output_type": "execute_result"
    }
   ],
   "source": [
    "#Extracting the Quantity from PROD_NAME\n",
    "merged['PROD_WEIGHT']=transaction['PROD_NAME'].str.extract('(\\d+)')\n",
    "merged.PROD_WEIGHT=merged.PROD_WEIGHT.astype('float')\n",
    "merged.head()"
   ]
  },
  {
   "cell_type": "code",
   "execution_count": 15,
   "metadata": {
    "scrolled": true
   },
   "outputs": [
    {
     "data": {
      "text/html": [
       "<div>\n",
       "<style scoped>\n",
       "    .dataframe tbody tr th:only-of-type {\n",
       "        vertical-align: middle;\n",
       "    }\n",
       "\n",
       "    .dataframe tbody tr th {\n",
       "        vertical-align: top;\n",
       "    }\n",
       "\n",
       "    .dataframe thead th {\n",
       "        text-align: right;\n",
       "    }\n",
       "</style>\n",
       "<table border=\"1\" class=\"dataframe\">\n",
       "  <thead>\n",
       "    <tr style=\"text-align: right;\">\n",
       "      <th></th>\n",
       "      <th>PROD_QTY</th>\n",
       "      <th>TOT_SALES</th>\n",
       "      <th>PROD_WEIGHT</th>\n",
       "    </tr>\n",
       "  </thead>\n",
       "  <tbody>\n",
       "    <tr>\n",
       "      <th>count</th>\n",
       "      <td>264835.000000</td>\n",
       "      <td>264835.000000</td>\n",
       "      <td>264835.000000</td>\n",
       "    </tr>\n",
       "    <tr>\n",
       "      <th>mean</th>\n",
       "      <td>1.907308</td>\n",
       "      <td>7.304205</td>\n",
       "      <td>182.426447</td>\n",
       "    </tr>\n",
       "    <tr>\n",
       "      <th>std</th>\n",
       "      <td>0.643655</td>\n",
       "      <td>3.083231</td>\n",
       "      <td>64.326679</td>\n",
       "    </tr>\n",
       "    <tr>\n",
       "      <th>min</th>\n",
       "      <td>1.000000</td>\n",
       "      <td>1.500000</td>\n",
       "      <td>70.000000</td>\n",
       "    </tr>\n",
       "    <tr>\n",
       "      <th>25%</th>\n",
       "      <td>2.000000</td>\n",
       "      <td>5.400000</td>\n",
       "      <td>150.000000</td>\n",
       "    </tr>\n",
       "    <tr>\n",
       "      <th>50%</th>\n",
       "      <td>2.000000</td>\n",
       "      <td>7.400000</td>\n",
       "      <td>170.000000</td>\n",
       "    </tr>\n",
       "    <tr>\n",
       "      <th>75%</th>\n",
       "      <td>2.000000</td>\n",
       "      <td>9.200000</td>\n",
       "      <td>175.000000</td>\n",
       "    </tr>\n",
       "    <tr>\n",
       "      <th>max</th>\n",
       "      <td>200.000000</td>\n",
       "      <td>650.000000</td>\n",
       "      <td>380.000000</td>\n",
       "    </tr>\n",
       "  </tbody>\n",
       "</table>\n",
       "</div>"
      ],
      "text/plain": [
       "            PROD_QTY      TOT_SALES    PROD_WEIGHT\n",
       "count  264835.000000  264835.000000  264835.000000\n",
       "mean        1.907308       7.304205     182.426447\n",
       "std         0.643655       3.083231      64.326679\n",
       "min         1.000000       1.500000      70.000000\n",
       "25%         2.000000       5.400000     150.000000\n",
       "50%         2.000000       7.400000     170.000000\n",
       "75%         2.000000       9.200000     175.000000\n",
       "max       200.000000     650.000000     380.000000"
      ]
     },
     "execution_count": 15,
     "metadata": {},
     "output_type": "execute_result"
    }
   ],
   "source": [
    "merged.describe()"
   ]
  },
  {
   "cell_type": "markdown",
   "metadata": {},
   "source": [
    "There are two possible outliers, for the PROD_QTY is 200, and for the TOT_SALES is 650.We need to check the outliers."
   ]
  },
  {
   "cell_type": "code",
   "execution_count": 16,
   "metadata": {},
   "outputs": [
    {
     "data": {
      "text/html": [
       "<div>\n",
       "<style scoped>\n",
       "    .dataframe tbody tr th:only-of-type {\n",
       "        vertical-align: middle;\n",
       "    }\n",
       "\n",
       "    .dataframe tbody tr th {\n",
       "        vertical-align: top;\n",
       "    }\n",
       "\n",
       "    .dataframe thead th {\n",
       "        text-align: right;\n",
       "    }\n",
       "</style>\n",
       "<table border=\"1\" class=\"dataframe\">\n",
       "  <thead>\n",
       "    <tr style=\"text-align: right;\">\n",
       "      <th></th>\n",
       "      <th>LYLTY_CARD_NBR</th>\n",
       "      <th>LIFESTAGE</th>\n",
       "      <th>PREMIUM_CUSTOMER</th>\n",
       "      <th>DATE</th>\n",
       "      <th>STORE_NBR</th>\n",
       "      <th>TXN_ID</th>\n",
       "      <th>PROD_NBR</th>\n",
       "      <th>PROD_NAME</th>\n",
       "      <th>PROD_QTY</th>\n",
       "      <th>TOT_SALES</th>\n",
       "      <th>PROD_WEIGHT</th>\n",
       "    </tr>\n",
       "  </thead>\n",
       "  <tbody>\n",
       "    <tr>\n",
       "      <th>221625</th>\n",
       "      <td>226000</td>\n",
       "      <td>OLDER FAMILIES</td>\n",
       "      <td>Premium</td>\n",
       "      <td>2019-05-20</td>\n",
       "      <td>226</td>\n",
       "      <td>226201</td>\n",
       "      <td>4</td>\n",
       "      <td>Dorito Corn Chp     Supreme 380g</td>\n",
       "      <td>200</td>\n",
       "      <td>650.0</td>\n",
       "      <td>175.0</td>\n",
       "    </tr>\n",
       "    <tr>\n",
       "      <th>221626</th>\n",
       "      <td>226000</td>\n",
       "      <td>OLDER FAMILIES</td>\n",
       "      <td>Premium</td>\n",
       "      <td>2018-10-14</td>\n",
       "      <td>226</td>\n",
       "      <td>226210</td>\n",
       "      <td>4</td>\n",
       "      <td>Dorito Corn Chp     Supreme 380g</td>\n",
       "      <td>200</td>\n",
       "      <td>650.0</td>\n",
       "      <td>150.0</td>\n",
       "    </tr>\n",
       "  </tbody>\n",
       "</table>\n",
       "</div>"
      ],
      "text/plain": [
       "       LYLTY_CARD_NBR       LIFESTAGE PREMIUM_CUSTOMER       DATE STORE_NBR  \\\n",
       "221625         226000  OLDER FAMILIES          Premium 2019-05-20       226   \n",
       "221626         226000  OLDER FAMILIES          Premium 2018-10-14       226   \n",
       "\n",
       "        TXN_ID PROD_NBR                         PROD_NAME  PROD_QTY  \\\n",
       "221625  226201        4  Dorito Corn Chp     Supreme 380g       200   \n",
       "221626  226210        4  Dorito Corn Chp     Supreme 380g       200   \n",
       "\n",
       "        TOT_SALES  PROD_WEIGHT  \n",
       "221625      650.0        175.0  \n",
       "221626      650.0        150.0  "
      ]
     },
     "execution_count": 16,
     "metadata": {},
     "output_type": "execute_result"
    }
   ],
   "source": [
    "#check outlier data in transaction data\n",
    "outlier=merged.query(\"PROD_QTY==200\")\n",
    "outlier"
   ]
  },
  {
   "cell_type": "markdown",
   "metadata": {},
   "source": [
    "As we can see that 200 packets of chips are bought from the same transaction and same customer"
   ]
  },
  {
   "cell_type": "code",
   "execution_count": 17,
   "metadata": {
    "scrolled": true
   },
   "outputs": [
    {
     "data": {
      "text/html": [
       "<div>\n",
       "<style scoped>\n",
       "    .dataframe tbody tr th:only-of-type {\n",
       "        vertical-align: middle;\n",
       "    }\n",
       "\n",
       "    .dataframe tbody tr th {\n",
       "        vertical-align: top;\n",
       "    }\n",
       "\n",
       "    .dataframe thead th {\n",
       "        text-align: right;\n",
       "    }\n",
       "</style>\n",
       "<table border=\"1\" class=\"dataframe\">\n",
       "  <thead>\n",
       "    <tr style=\"text-align: right;\">\n",
       "      <th></th>\n",
       "      <th>LYLTY_CARD_NBR</th>\n",
       "      <th>LIFESTAGE</th>\n",
       "      <th>PREMIUM_CUSTOMER</th>\n",
       "      <th>DATE</th>\n",
       "      <th>STORE_NBR</th>\n",
       "      <th>TXN_ID</th>\n",
       "      <th>PROD_NBR</th>\n",
       "      <th>PROD_NAME</th>\n",
       "      <th>PROD_QTY</th>\n",
       "      <th>TOT_SALES</th>\n",
       "      <th>PROD_WEIGHT</th>\n",
       "    </tr>\n",
       "  </thead>\n",
       "  <tbody>\n",
       "    <tr>\n",
       "      <th>221625</th>\n",
       "      <td>226000</td>\n",
       "      <td>OLDER FAMILIES</td>\n",
       "      <td>Premium</td>\n",
       "      <td>2019-05-20</td>\n",
       "      <td>226</td>\n",
       "      <td>226201</td>\n",
       "      <td>4</td>\n",
       "      <td>Dorito Corn Chp     Supreme 380g</td>\n",
       "      <td>200</td>\n",
       "      <td>650.0</td>\n",
       "      <td>175.0</td>\n",
       "    </tr>\n",
       "    <tr>\n",
       "      <th>221626</th>\n",
       "      <td>226000</td>\n",
       "      <td>OLDER FAMILIES</td>\n",
       "      <td>Premium</td>\n",
       "      <td>2018-10-14</td>\n",
       "      <td>226</td>\n",
       "      <td>226210</td>\n",
       "      <td>4</td>\n",
       "      <td>Dorito Corn Chp     Supreme 380g</td>\n",
       "      <td>200</td>\n",
       "      <td>650.0</td>\n",
       "      <td>150.0</td>\n",
       "    </tr>\n",
       "  </tbody>\n",
       "</table>\n",
       "</div>"
      ],
      "text/plain": [
       "       LYLTY_CARD_NBR       LIFESTAGE PREMIUM_CUSTOMER       DATE STORE_NBR  \\\n",
       "221625         226000  OLDER FAMILIES          Premium 2019-05-20       226   \n",
       "221626         226000  OLDER FAMILIES          Premium 2018-10-14       226   \n",
       "\n",
       "        TXN_ID PROD_NBR                         PROD_NAME  PROD_QTY  \\\n",
       "221625  226201        4  Dorito Corn Chp     Supreme 380g       200   \n",
       "221626  226210        4  Dorito Corn Chp     Supreme 380g       200   \n",
       "\n",
       "        TOT_SALES  PROD_WEIGHT  \n",
       "221625      650.0        175.0  \n",
       "221626      650.0        150.0  "
      ]
     },
     "execution_count": 17,
     "metadata": {},
     "output_type": "execute_result"
    }
   ],
   "source": [
    "#Check the customer's transaction\n",
    "out_cus=merged.query(\"LYLTY_CARD_NBR=='226000'\")\n",
    "out_cus"
   ]
  },
  {
   "cell_type": "markdown",
   "metadata": {},
   "source": [
    "It seems that the customer didn't have other transactions,maybe the customer buying chips for special event,and we can drop the two rows since these are outliers."
   ]
  },
  {
   "cell_type": "code",
   "execution_count": 18,
   "metadata": {},
   "outputs": [],
   "source": [
    "#Drop the outliers \n",
    "merged=merged.drop(outlier.index)"
   ]
  },
  {
   "cell_type": "code",
   "execution_count": 19,
   "metadata": {
    "scrolled": true
   },
   "outputs": [
    {
     "data": {
      "image/png": "[encoded data removed]",
      "text/plain": [
       "<Figure size 576x432 with 4 Axes>"
      ]
     },
     "metadata": {
      "needs_background": "light"
     },
     "output_type": "display_data"
    }
   ],
   "source": [
    "#Check the distribution of the Product quantity and total sales.\n",
    "merged.hist(figsize=(8,6));"
   ]
  },
  {
   "cell_type": "code",
   "execution_count": 20,
   "metadata": {},
   "outputs": [
    {
     "name": "stdout",
     "output_type": "stream",
     "text": [
      "LIFESTAGE:\n",
      " OLDER SINGLES/COUPLES     54478\n",
      "RETIREES                  49763\n",
      "OLDER FAMILIES            48594\n",
      "YOUNG FAMILIES            43592\n",
      "YOUNG SINGLES/COUPLES     36377\n",
      "MIDAGE SINGLES/COUPLES    25110\n",
      "NEW FAMILIES               6919\n",
      "Name: LIFESTAGE, dtype: int64\n",
      "PREMIUM_CUSTOMER:\n",
      " Mainstream    101988\n",
      "Budget         93157\n",
      "Premium        69688\n",
      "Name: PREMIUM_CUSTOMER, dtype: int64\n"
     ]
    }
   ],
   "source": [
    "#now let's see the catrgory variables \n",
    "print(\"LIFESTAGE:\\n\",merged.LIFESTAGE.value_counts())\n",
    "print(\"PREMIUM_CUSTOMER:\\n\",merged.PREMIUM_CUSTOMER.value_counts())"
   ]
  },
  {
   "cell_type": "code",
   "execution_count": 21,
   "metadata": {},
   "outputs": [
    {
     "data": {
      "text/plain": [
       "array(['Natural Chip        Compny SeaSalt175g',\n",
       "       'Red Rock Deli Chikn&Garlic Aioli 150g',\n",
       "       'Grain Waves Sour    Cream&Chives 210G',\n",
       "       'Natural ChipCo      Hony Soy Chckn175g',\n",
       "       'WW Original Stacked Chips 160g', 'Cheetos Puffs 165g',\n",
       "       'Infuzions SourCream&Herbs Veg Strws 110g',\n",
       "       'RRD SR Slow Rst     Pork Belly 150g',\n",
       "       'Doritos Cheese      Supreme 330g', 'Doritos Mexicana    170g',\n",
       "       'Old El Paso Salsa   Dip Tomato Med 300g',\n",
       "       'GrnWves Plus Btroot & Chilli Jam 180g',\n",
       "       'Smiths Crinkle Cut  Chips Barbecue 170g',\n",
       "       'Kettle Sensations   Camembert & Fig 150g',\n",
       "       'Doritos Corn Chip Southern Chicken 150g',\n",
       "       'CCs Tasty Cheese    175g', 'Tostitos Splash Of  Lime 175g',\n",
       "       'Kettle 135g Swt Pot Sea Salt', 'RRD Salt & Vinegar  165g',\n",
       "       'Infuzions Mango     Chutny Papadums 70g',\n",
       "       'Smiths Crinkle Cut  Snag&Sauce 150g',\n",
       "       'Smiths Crinkle      Original 330g',\n",
       "       'RRD Sweet Chilli &  Sour Cream 165g',\n",
       "       'Smiths Chip Thinly  S/Cream&Onion 175g',\n",
       "       'Smiths Crinkle Chips Salt & Vinegar 330g',\n",
       "       'Red Rock Deli SR    Salsa & Mzzrlla 150g',\n",
       "       'Cobs Popd Sea Salt  Chips 110g',\n",
       "       'Natural ChipCo Sea  Salt & Vinegr 175g',\n",
       "       'Natural Chip Co     Tmato Hrb&Spce 175g', 'Burger Rings 220g',\n",
       "       'Woolworths Cheese   Rings 190g',\n",
       "       'Smiths Thinly       Swt Chli&S/Cream175G',\n",
       "       'Thins Chips Seasonedchicken 175g',\n",
       "       'Smiths Thinly Cut   Roast Chicken 175g',\n",
       "       'Tyrrells Crisps     Ched & Chives 165g',\n",
       "       'Doritos Corn Chips  Cheese Supreme 170g',\n",
       "       'Smiths Chip Thinly  Cut Original 175g',\n",
       "       'Smiths Crinkle Cut  Chips Original 170g',\n",
       "       'Thins Chips Light&  Tangy 175g',\n",
       "       'Doritos Corn Chips  Original 170g',\n",
       "       'Kettle Sensations   Siracha Lime 150g',\n",
       "       'Smiths Crinkle Cut  Salt & Vinegar 170g',\n",
       "       'Smith Crinkle Cut   Bolognese 150g', 'Cheezels Cheese 330g',\n",
       "       'Kettle Chilli 175g', 'Tyrrells Crisps     Lightly Salted 165g',\n",
       "       'Twisties Cheese     270g', 'WW Crinkle Cut      Chicken 175g',\n",
       "       'RRD Chilli&         Coconut 150g',\n",
       "       'Infuzions BBQ Rib   Prawn Crackers 110g',\n",
       "       'Sunbites Whlegrn    Crisps Frch/Onin 90g',\n",
       "       'Doritos Salsa       Medium 300g',\n",
       "       'Kettle Tortilla ChpsFeta&Garlic 150g',\n",
       "       'Smiths Crinkle Cut  French OnionDip 150g',\n",
       "       'WW D/Style Chip     Sea Salt 200g',\n",
       "       'Smiths Chip Thinly  CutSalt/Vinegr175g',\n",
       "       'Kettle Sensations   BBQ&Maple 150g',\n",
       "       'Old El Paso Salsa   Dip Tomato Mild 300g',\n",
       "       'Tostitos Smoked     Chipotle 175g', 'RRD Lime & Pepper   165g',\n",
       "       'CCs Nacho Cheese    175g', 'Snbts Whlgrn Crisps Cheddr&Mstrd 90g',\n",
       "       'Kettle Tortilla ChpsBtroot&Ricotta 150g',\n",
       "       'Pringles Sthrn FriedChicken 134g',\n",
       "       'Pringles Chicken    Salt Crips 134g',\n",
       "       'French Fries Potato Chips 175g',\n",
       "       'Kettle Mozzarella   Basil & Pesto 175g', 'CCs Original 175g',\n",
       "       'Tostitos Lightly    Salted 175g',\n",
       "       'Smiths Crnkle Chip  Orgnl Big Bag 380g',\n",
       "       'Smiths Crinkle Cut  Chips Chicken 170g',\n",
       "       'Smiths Crinkle Cut  Chips Chs&Onion170g', 'Twisties Chicken270g',\n",
       "       'Woolworths Medium   Salsa 300g',\n",
       "       'Red Rock Deli Sp    Salt & Truffle 150G',\n",
       "       'RRD Pc Sea Salt     165g', 'WW Supreme Cheese   Corn Chips 200g',\n",
       "       'WW Original Corn    Chips 200g', 'Woolworths Mild     Salsa 300g',\n",
       "       'Cheezels Cheese Box 125g', 'Doritos Salsa Mild  300g',\n",
       "       'Cobs Popd Swt/Chlli &Sr/Cream Chips 110g',\n",
       "       'Infzns Crn Crnchers Tangy Gcamole 110g',\n",
       "       'WW Sour Cream &OnionStacked Chips 160g',\n",
       "       'Pringles Mystery    Flavour 134g', 'Pringles Barbeque   134g',\n",
       "       'Grain Waves         Sweet Chilli 210g',\n",
       "       'Pringles Sweet&Spcy BBQ 134g', 'Kettle Original 175g',\n",
       "       'Infuzions Thai SweetChili PotatoMix 110g',\n",
       "       'Old El Paso Salsa   Dip Chnky Tom Ht300g',\n",
       "       'Smiths Crinkle Cut  Tomato Salsa 150g',\n",
       "       'Cheetos Chs & Bacon Balls 190g',\n",
       "       'Kettle Sweet Chilli And Sour Cream 175g',\n",
       "       'Doritos Corn Chips  Nacho Cheese 170g',\n",
       "       'Cobs Popd Sour Crm  &Chives Chips 110g',\n",
       "       'Red Rock Deli Thai  Chilli&Lime 150g',\n",
       "       'Twisties Cheese     Burger 250g',\n",
       "       'Kettle Sea Salt     And Vinegar 175g',\n",
       "       'WW Crinkle Cut      Original 175g',\n",
       "       'Dorito Corn Chp     Supreme 380g',\n",
       "       'Doritos Corn Chip Mexican Jalapeno 150g',\n",
       "       'Pringles SourCream  Onion 134g',\n",
       "       'Kettle Tortilla ChpsHny&Jlpno Chili 150g',\n",
       "       'RRD Steak &         Chimuchurri 150g',\n",
       "       'Thins Chips Salt &  Vinegar 175g',\n",
       "       'Thins Chips         Originl saltd 175g',\n",
       "       'RRD Honey Soy       Chicken 165g',\n",
       "       'Kettle Honey Soy    Chicken 175g',\n",
       "       'NCC Sour Cream &    Garden Chives 175g',\n",
       "       'Pringles Original   Crisps 134g',\n",
       "       'Smith Crinkle Cut   Mac N Cheese 150g',\n",
       "       'Thins Potato Chips  Hot & Spicy 175g', 'Pringles Slt Vingar 134g'],\n",
       "      dtype=object)"
      ]
     },
     "execution_count": 21,
     "metadata": {},
     "output_type": "execute_result"
    }
   ],
   "source": [
    "#Since we only interest on the chips we need to extract the chip products\n",
    "merged['PROD_NAME'].unique()"
   ]
  },
  {
   "cell_type": "code",
   "execution_count": 22,
   "metadata": {},
   "outputs": [
    {
     "data": {
      "text/html": [
       "<div>\n",
       "<style scoped>\n",
       "    .dataframe tbody tr th:only-of-type {\n",
       "        vertical-align: middle;\n",
       "    }\n",
       "\n",
       "    .dataframe tbody tr th {\n",
       "        vertical-align: top;\n",
       "    }\n",
       "\n",
       "    .dataframe thead th {\n",
       "        text-align: right;\n",
       "    }\n",
       "</style>\n",
       "<table border=\"1\" class=\"dataframe\">\n",
       "  <thead>\n",
       "    <tr style=\"text-align: right;\">\n",
       "      <th></th>\n",
       "      <th>LYLTY_CARD_NBR</th>\n",
       "      <th>LIFESTAGE</th>\n",
       "      <th>PREMIUM_CUSTOMER</th>\n",
       "      <th>DATE</th>\n",
       "      <th>STORE_NBR</th>\n",
       "      <th>TXN_ID</th>\n",
       "      <th>PROD_NBR</th>\n",
       "      <th>PROD_NAME</th>\n",
       "      <th>PROD_QTY</th>\n",
       "      <th>TOT_SALES</th>\n",
       "      <th>PROD_WEIGHT</th>\n",
       "    </tr>\n",
       "  </thead>\n",
       "  <tbody>\n",
       "    <tr>\n",
       "      <th>0</th>\n",
       "      <td>1000</td>\n",
       "      <td>YOUNG SINGLES/COUPLES</td>\n",
       "      <td>Premium</td>\n",
       "      <td>2018-10-17</td>\n",
       "      <td>1</td>\n",
       "      <td>1</td>\n",
       "      <td>5</td>\n",
       "      <td>Natural Chip        Compny SeaSalt</td>\n",
       "      <td>2</td>\n",
       "      <td>6.0</td>\n",
       "      <td>175.0</td>\n",
       "    </tr>\n",
       "    <tr>\n",
       "      <th>1</th>\n",
       "      <td>1002</td>\n",
       "      <td>YOUNG SINGLES/COUPLES</td>\n",
       "      <td>Mainstream</td>\n",
       "      <td>2018-09-16</td>\n",
       "      <td>1</td>\n",
       "      <td>2</td>\n",
       "      <td>58</td>\n",
       "      <td>Red Rock Deli ChiknGarlic Aioli</td>\n",
       "      <td>1</td>\n",
       "      <td>2.7</td>\n",
       "      <td>175.0</td>\n",
       "    </tr>\n",
       "    <tr>\n",
       "      <th>2</th>\n",
       "      <td>1003</td>\n",
       "      <td>YOUNG FAMILIES</td>\n",
       "      <td>Budget</td>\n",
       "      <td>2019-03-07</td>\n",
       "      <td>1</td>\n",
       "      <td>3</td>\n",
       "      <td>52</td>\n",
       "      <td>Grain Waves Sour    CreamChives 210G</td>\n",
       "      <td>1</td>\n",
       "      <td>3.6</td>\n",
       "      <td>170.0</td>\n",
       "    </tr>\n",
       "    <tr>\n",
       "      <th>3</th>\n",
       "      <td>1003</td>\n",
       "      <td>YOUNG FAMILIES</td>\n",
       "      <td>Budget</td>\n",
       "      <td>2019-03-08</td>\n",
       "      <td>1</td>\n",
       "      <td>4</td>\n",
       "      <td>106</td>\n",
       "      <td>Natural ChipCo      Hony Soy Chckn</td>\n",
       "      <td>1</td>\n",
       "      <td>3.0</td>\n",
       "      <td>175.0</td>\n",
       "    </tr>\n",
       "    <tr>\n",
       "      <th>4</th>\n",
       "      <td>1004</td>\n",
       "      <td>OLDER SINGLES/COUPLES</td>\n",
       "      <td>Mainstream</td>\n",
       "      <td>2018-11-02</td>\n",
       "      <td>1</td>\n",
       "      <td>5</td>\n",
       "      <td>96</td>\n",
       "      <td>WW Original Stacked Chips</td>\n",
       "      <td>1</td>\n",
       "      <td>1.9</td>\n",
       "      <td>150.0</td>\n",
       "    </tr>\n",
       "  </tbody>\n",
       "</table>\n",
       "</div>"
      ],
      "text/plain": [
       "  LYLTY_CARD_NBR              LIFESTAGE PREMIUM_CUSTOMER       DATE STORE_NBR  \\\n",
       "0           1000  YOUNG SINGLES/COUPLES          Premium 2018-10-17         1   \n",
       "1           1002  YOUNG SINGLES/COUPLES       Mainstream 2018-09-16         1   \n",
       "2           1003         YOUNG FAMILIES           Budget 2019-03-07         1   \n",
       "3           1003         YOUNG FAMILIES           Budget 2019-03-08         1   \n",
       "4           1004  OLDER SINGLES/COUPLES       Mainstream 2018-11-02         1   \n",
       "\n",
       "  TXN_ID PROD_NBR                             PROD_NAME  PROD_QTY  TOT_SALES  \\\n",
       "0      1        5    Natural Chip        Compny SeaSalt         2        6.0   \n",
       "1      2       58      Red Rock Deli ChiknGarlic Aioli          1        2.7   \n",
       "2      3       52  Grain Waves Sour    CreamChives 210G         1        3.6   \n",
       "3      4      106    Natural ChipCo      Hony Soy Chckn         1        3.0   \n",
       "4      5       96            WW Original Stacked Chips          1        1.9   \n",
       "\n",
       "   PROD_WEIGHT  \n",
       "0        175.0  \n",
       "1        175.0  \n",
       "2        170.0  \n",
       "3        175.0  \n",
       "4        150.0  "
      ]
     },
     "execution_count": 22,
     "metadata": {},
     "output_type": "execute_result"
    }
   ],
   "source": [
    "#Drop rows with salsa word and removing special characters.\n",
    "merged['PROD_NAME']=merged['PROD_NAME'].str.replace('(\\d+g)|(&)',\"\")\n",
    "merged=merged[~merged['PROD_NAME'].str.contains(('Salsa|salsa'),regex=True)]\n",
    "merged.head()"
   ]
  },
  {
   "cell_type": "code",
   "execution_count": 23,
   "metadata": {},
   "outputs": [
    {
     "data": {
      "text/html": [
       "<div>\n",
       "<style scoped>\n",
       "    .dataframe tbody tr th:only-of-type {\n",
       "        vertical-align: middle;\n",
       "    }\n",
       "\n",
       "    .dataframe tbody tr th {\n",
       "        vertical-align: top;\n",
       "    }\n",
       "\n",
       "    .dataframe thead th {\n",
       "        text-align: right;\n",
       "    }\n",
       "</style>\n",
       "<table border=\"1\" class=\"dataframe\">\n",
       "  <thead>\n",
       "    <tr style=\"text-align: right;\">\n",
       "      <th></th>\n",
       "      <th>LYLTY_CARD_NBR</th>\n",
       "      <th>LIFESTAGE</th>\n",
       "      <th>PREMIUM_CUSTOMER</th>\n",
       "      <th>DATE</th>\n",
       "      <th>STORE_NBR</th>\n",
       "      <th>TXN_ID</th>\n",
       "      <th>PROD_NBR</th>\n",
       "      <th>PROD_NAME</th>\n",
       "      <th>PROD_QTY</th>\n",
       "      <th>TOT_SALES</th>\n",
       "      <th>PROD_WEIGHT</th>\n",
       "      <th>BRAND</th>\n",
       "    </tr>\n",
       "  </thead>\n",
       "  <tbody>\n",
       "    <tr>\n",
       "      <th>0</th>\n",
       "      <td>1000</td>\n",
       "      <td>YOUNG SINGLES/COUPLES</td>\n",
       "      <td>Premium</td>\n",
       "      <td>2018-10-17</td>\n",
       "      <td>1</td>\n",
       "      <td>1</td>\n",
       "      <td>5</td>\n",
       "      <td>Natural Chip        Compny SeaSalt</td>\n",
       "      <td>2</td>\n",
       "      <td>6.0</td>\n",
       "      <td>175.0</td>\n",
       "      <td>Natural</td>\n",
       "    </tr>\n",
       "    <tr>\n",
       "      <th>1</th>\n",
       "      <td>1002</td>\n",
       "      <td>YOUNG SINGLES/COUPLES</td>\n",
       "      <td>Mainstream</td>\n",
       "      <td>2018-09-16</td>\n",
       "      <td>1</td>\n",
       "      <td>2</td>\n",
       "      <td>58</td>\n",
       "      <td>Red Rock Deli ChiknGarlic Aioli</td>\n",
       "      <td>1</td>\n",
       "      <td>2.7</td>\n",
       "      <td>175.0</td>\n",
       "      <td>CCs</td>\n",
       "    </tr>\n",
       "    <tr>\n",
       "      <th>2</th>\n",
       "      <td>1003</td>\n",
       "      <td>YOUNG FAMILIES</td>\n",
       "      <td>Budget</td>\n",
       "      <td>2019-03-07</td>\n",
       "      <td>1</td>\n",
       "      <td>3</td>\n",
       "      <td>52</td>\n",
       "      <td>Grain Waves Sour    CreamChives 210G</td>\n",
       "      <td>1</td>\n",
       "      <td>3.6</td>\n",
       "      <td>170.0</td>\n",
       "      <td>Smiths</td>\n",
       "    </tr>\n",
       "    <tr>\n",
       "      <th>3</th>\n",
       "      <td>1003</td>\n",
       "      <td>YOUNG FAMILIES</td>\n",
       "      <td>Budget</td>\n",
       "      <td>2019-03-08</td>\n",
       "      <td>1</td>\n",
       "      <td>4</td>\n",
       "      <td>106</td>\n",
       "      <td>Natural ChipCo      Hony Soy Chckn</td>\n",
       "      <td>1</td>\n",
       "      <td>3.0</td>\n",
       "      <td>175.0</td>\n",
       "      <td>Smiths</td>\n",
       "    </tr>\n",
       "    <tr>\n",
       "      <th>4</th>\n",
       "      <td>1004</td>\n",
       "      <td>OLDER SINGLES/COUPLES</td>\n",
       "      <td>Mainstream</td>\n",
       "      <td>2018-11-02</td>\n",
       "      <td>1</td>\n",
       "      <td>5</td>\n",
       "      <td>96</td>\n",
       "      <td>WW Original Stacked Chips</td>\n",
       "      <td>1</td>\n",
       "      <td>1.9</td>\n",
       "      <td>150.0</td>\n",
       "      <td>Kettle</td>\n",
       "    </tr>\n",
       "  </tbody>\n",
       "</table>\n",
       "</div>"
      ],
      "text/plain": [
       "  LYLTY_CARD_NBR              LIFESTAGE PREMIUM_CUSTOMER       DATE STORE_NBR  \\\n",
       "0           1000  YOUNG SINGLES/COUPLES          Premium 2018-10-17         1   \n",
       "1           1002  YOUNG SINGLES/COUPLES       Mainstream 2018-09-16         1   \n",
       "2           1003         YOUNG FAMILIES           Budget 2019-03-07         1   \n",
       "3           1003         YOUNG FAMILIES           Budget 2019-03-08         1   \n",
       "4           1004  OLDER SINGLES/COUPLES       Mainstream 2018-11-02         1   \n",
       "\n",
       "  TXN_ID PROD_NBR                             PROD_NAME  PROD_QTY  TOT_SALES  \\\n",
       "0      1        5    Natural Chip        Compny SeaSalt         2        6.0   \n",
       "1      2       58      Red Rock Deli ChiknGarlic Aioli          1        2.7   \n",
       "2      3       52  Grain Waves Sour    CreamChives 210G         1        3.6   \n",
       "3      4      106    Natural ChipCo      Hony Soy Chckn         1        3.0   \n",
       "4      5       96            WW Original Stacked Chips          1        1.9   \n",
       "\n",
       "   PROD_WEIGHT    BRAND  \n",
       "0        175.0  Natural  \n",
       "1        175.0      CCs  \n",
       "2        170.0   Smiths  \n",
       "3        175.0   Smiths  \n",
       "4        150.0   Kettle  "
      ]
     },
     "execution_count": 23,
     "metadata": {},
     "output_type": "execute_result"
    }
   ],
   "source": [
    "# Extract brand name from PROD_NAME and create new column called BRAND\n",
    "part = transaction['PROD_NAME'].str.partition()\n",
    "merged['BRAND'] = part[0]\n",
    "merged.head()"
   ]
  },
  {
   "cell_type": "code",
   "execution_count": 24,
   "metadata": {},
   "outputs": [
    {
     "data": {
      "text/plain": [
       "array(['Natural', 'CCs', 'Smiths', 'Kettle', 'Old', 'Grain', 'Doritos',\n",
       "       'WW', 'Thins', 'Burger', 'NCC', 'Cheezels', 'Infzns', 'Red',\n",
       "       'Pringles', 'Dorito', 'Twisties', 'Infuzions', 'Smith', 'GrnWves',\n",
       "       'Tyrrells', 'Woolworths', 'Cobs', 'French', 'RRD', 'Tostitos',\n",
       "       'Snbts', 'Cheetos', 'Sunbites'], dtype=object)"
      ]
     },
     "execution_count": 24,
     "metadata": {},
     "output_type": "execute_result"
    }
   ],
   "source": [
    "merged['BRAND'].unique()"
   ]
  },
  {
   "cell_type": "code",
   "execution_count": 25,
   "metadata": {},
   "outputs": [
    {
     "data": {
      "text/plain": [
       "array(['Natural', 'CCS', 'Smiths', 'Kettle', 'Old', 'Grainwaves',\n",
       "       'Doritos', 'Woolworths', 'Thins', 'Burger', 'Cheezels',\n",
       "       'Infuzions', 'Red Rock Deli', 'Pringles', 'Twisties', 'Tyrrells',\n",
       "       'Cobs', 'French', 'Tostitos', 'Sunbites', 'Cheetos'], dtype=object)"
      ]
     },
     "execution_count": 25,
     "metadata": {},
     "output_type": "execute_result"
    }
   ],
   "source": [
    "#Rename brand names\n",
    "merged['BRAND'].replace('NCC', 'Natural', inplace = True)\n",
    "merged['BRAND'].replace('CCs', 'CCS', inplace = True)\n",
    "merged['BRAND'].replace('Smith', 'Smiths', inplace = True)\n",
    "merged['BRAND'].replace(['Grain', 'GrnWves'], 'Grainwaves', inplace = True)\n",
    "merged['BRAND'].replace('Dorito', 'Doritos', inplace = True)\n",
    "merged['BRAND'].replace('WW', 'Woolworths', inplace = True)\n",
    "merged['BRAND'].replace('Infzns', 'Infuzions', inplace = True)\n",
    "merged['BRAND'].replace(['Red','RRD'] ,'Red Rock Deli', inplace = True)\n",
    "merged['BRAND'].replace('Snbts', 'Sunbites', inplace = True)\n",
    "merged['BRAND'].unique()"
   ]
  },
  {
   "cell_type": "code",
   "execution_count": 26,
   "metadata": {},
   "outputs": [
    {
     "name": "stdout",
     "output_type": "stream",
     "text": [
      "The unique data:\n",
      " LYLTY_CARD_NBR       71287\n",
      "LIFESTAGE                7\n",
      "PREMIUM_CUSTOMER         3\n",
      "DATE                   364\n",
      "STORE_NBR              271\n",
      "TXN_ID              245255\n",
      "PROD_NBR               105\n",
      "PROD_NAME              105\n",
      "PROD_QTY                 5\n",
      "TOT_SALES              104\n",
      "PROD_WEIGHT             21\n",
      "BRAND                   21\n",
      "dtype: int64 \n",
      "\n",
      "Product_quantity:\n",
      " 2    220069\n",
      "1     25476\n",
      "5       415\n",
      "3       408\n",
      "4       371\n",
      "Name: PROD_QTY, dtype: int64 \n",
      "\n",
      "DATE:\n",
      " 2018-12-24    879\n",
      "2018-12-23    858\n",
      "2018-12-22    848\n",
      "2018-12-19    837\n",
      "2018-12-20    803\n",
      "             ... \n",
      "2018-12-12    615\n",
      "2018-09-22    615\n",
      "2019-06-24    612\n",
      "2019-06-13    611\n",
      "2018-11-25    600\n",
      "Name: DATE, Length: 364, dtype: int64 \n",
      "\n",
      "Brand:\n",
      " Kettle           38433\n",
      "Smiths           29666\n",
      "Doritos          26216\n",
      "Pringles         23419\n",
      "Red Rock Deli    16551\n",
      "Woolworths       13724\n",
      "Infuzions        13253\n",
      "Thins            13125\n",
      "Cobs              9038\n",
      "Tostitos          8825\n",
      "Twisties          8789\n",
      "Old               8703\n",
      "Grainwaves        7183\n",
      "Natural           6951\n",
      "Tyrrells          6031\n",
      "CCS               4250\n",
      "Cheezels          4250\n",
      "Sunbites          2812\n",
      "Cheetos           2744\n",
      "Burger            1455\n",
      "French            1321\n",
      "Name: BRAND, dtype: int64 \n",
      "\n",
      "Product_weight:\n",
      " 175.0    61895\n",
      "150.0    40225\n",
      "134.0    23419\n",
      "110.0    20884\n",
      "170.0    18639\n",
      "165.0    14261\n",
      "300.0    14103\n",
      "330.0    11623\n",
      "380.0     5966\n",
      "270.0     5846\n",
      "210.0     5811\n",
      "200.0     4157\n",
      "135.0     3016\n",
      "250.0     2943\n",
      "90.0      2812\n",
      "190.0     2797\n",
      "160.0     2770\n",
      "220.0     1455\n",
      "70.0      1407\n",
      "180.0     1372\n",
      "125.0     1338\n",
      "Name: PROD_WEIGHT, dtype: int64 \n",
      "\n"
     ]
    }
   ],
   "source": [
    "#Finding the unique value in the transaction data\n",
    "print(\"The unique data:\\n\",merged.nunique(),\"\\n\")\n",
    "#See which value are present in particular column\n",
    "print(\"Product_quantity:\\n\",merged['PROD_QTY'].value_counts(),\"\\n\")\n",
    "print(\"DATE:\\n\",merged['DATE'].value_counts(),\"\\n\")\n",
    "print(\"Brand:\\n\",merged['BRAND'].value_counts(),\"\\n\")\n",
    "print(\"Product_weight:\\n\",merged['PROD_WEIGHT'].value_counts(),\"\\n\")"
   ]
  },
  {
   "cell_type": "code",
   "execution_count": 27,
   "metadata": {},
   "outputs": [
    {
     "data": {
      "text/plain": [
       "DatetimeIndex(['2018-12-25'], dtype='datetime64[ns]', freq=None)"
      ]
     },
     "execution_count": 27,
     "metadata": {},
     "output_type": "execute_result"
    }
   ],
   "source": [
    "#As we can see, the date column only has 364 unique values, using the method to see which day is the missing date\n",
    "import datetime\n",
    "pd.date_range(start=merged[\"DATE\"].min(), end=merged[\"DATE\"].max()).difference(merged[\"DATE\"])"
   ]
  },
  {
   "cell_type": "markdown",
   "metadata": {},
   "source": [
    "We can see that the missing day is 2018-12-25, which is Christmas."
   ]
  },
  {
   "cell_type": "code",
   "execution_count": 28,
   "metadata": {},
   "outputs": [
    {
     "data": {
      "text/plain": [
       "(364, 1)"
      ]
     },
     "execution_count": 28,
     "metadata": {},
     "output_type": "execute_result"
    }
   ],
   "source": [
    "# Create a new dataframe which contains the total sale for each date\n",
    "date_total_1= pd.pivot_table(merged, values = 'TOT_SALES', index = 'DATE', aggfunc = 'sum')\n",
    "date_total_1.shape"
   ]
  },
  {
   "cell_type": "code",
   "execution_count": 29,
   "metadata": {},
   "outputs": [
    {
     "data": {
      "text/plain": [
       "(365, 1)"
      ]
     },
     "execution_count": 29,
     "metadata": {},
     "output_type": "execute_result"
    }
   ],
   "source": [
    "date_total_2=pd.DataFrame(index = pd.date_range(start = '2018-07-01', end = '2019-06-30'))\n",
    "date_total_2['TOT_SALES'] =0\n",
    "date_total = date_total_1+date_total_2\n",
    "date_total.fillna(0, inplace = True)\n",
    "date_total.index.name = 'Date'\n",
    "date_total.rename(columns = {'TOT_SALES': 'Total Sales'}, inplace = True)\n",
    "date_total.shape"
   ]
  },
  {
   "cell_type": "code",
   "execution_count": 61,
   "metadata": {},
   "outputs": [
    {
     "data": {
      "image/png": "[encoded data removed]",
      "text/plain": [
       "<Figure size 576x432 with 1 Axes>"
      ]
     },
     "metadata": {
      "needs_background": "light"
     },
     "output_type": "display_data"
    }
   ],
   "source": [
    "# See the total sales over the year\n",
    "date_total.plot(kind='line',figsize=(8,6))\n",
    "plt.title('Total sales over time')\n",
    "plt.xlabel('Date')\n",
    "plt.ylabel('Total Sales')\n",
    "plt.show()"
   ]
  },
  {
   "cell_type": "code",
   "execution_count": 60,
   "metadata": {
    "scrolled": false
   },
   "outputs": [
    {
     "data": {
      "image/png": "[encoded data removed]",
      "text/plain": [
       "<Figure size 576x432 with 1 Axes>"
      ]
     },
     "metadata": {
      "needs_background": "light"
     },
     "output_type": "display_data"
    }
   ],
   "source": [
    "#See the December total sales\n",
    "Dec_date_total = date_total[(date_total.index > \"2018-12-1\") & (date_total.index < \"2019-1-1\")]\n",
    "Dec_date_total.plot(kind='line',figsize=(8,6))\n",
    "plt.title('Total sales over time')\n",
    "plt.xlabel('Date')\n",
    "plt.ylabel('Total Sales')\n",
    "plt.show()\n"
   ]
  },
  {
   "cell_type": "code",
   "execution_count": 32,
   "metadata": {},
   "outputs": [
    {
     "data": {
      "text/plain": [
       "<AxesSubplot:>"
      ]
     },
     "execution_count": 32,
     "metadata": {},
     "output_type": "execute_result"
    },
    {
     "data": {
      "image/png": "[encoded data removed]",
      "text/plain": [
       "<Figure size 432x288 with 2 Axes>"
      ]
     },
     "metadata": {
      "needs_background": "light"
     },
     "output_type": "display_data"
    }
   ],
   "source": [
    "sns.heatmap(merged.corr(),annot=True,fmt='.2f',cmap='vlag_r',center=0)"
   ]
  },
  {
   "cell_type": "code",
   "execution_count": 33,
   "metadata": {},
   "outputs": [
    {
     "data": {
      "text/plain": [
       "<Figure size 720x576 with 0 Axes>"
      ]
     },
     "metadata": {},
     "output_type": "display_data"
    },
    {
     "data": {
      "image/png": "[encoded data removed]",
      "text/plain": [
       "<Figure size 540x360 with 6 Axes>"
      ]
     },
     "metadata": {
      "needs_background": "light"
     },
     "output_type": "display_data"
    }
   ],
   "source": [
    "base_color=sns.color_palette()[0]\n",
    "plt.figure(figsize=(10,8))\n",
    "g=sns.PairGrid(data=merged,x_vars=['TOT_SALES','PROD_QTY','PROD_WEIGHT'],\n",
    "             y_vars=['LIFESTAGE','PREMIUM_CUSTOMER']);\n",
    "g.map(sns.violinplot,inner='quartile',color=base_color);"
   ]
  },
  {
   "cell_type": "markdown",
   "metadata": {},
   "source": [
    "It is obvious that the product quantity has positive relationship with total sales, but the product weight seems no relationship woth product quantity and total sales."
   ]
  },
  {
   "cell_type": "code",
   "execution_count": 34,
   "metadata": {},
   "outputs": [
    {
     "data": {
      "image/png": "[encoded data removed]",
      "text/plain": [
       "<Figure size 576x432 with 1 Axes>"
      ]
     },
     "metadata": {
      "needs_background": "light"
     },
     "output_type": "display_data"
    }
   ],
   "source": [
    "#Most frequently purchased product weight \n",
    "plt.figure(figsize = (8,6))\n",
    "plt.hist(merged['PROD_WEIGHT'])     \n",
    "plt.xlabel('Product weight')\n",
    "plt.ylabel('Count')\n",
    "plt.title('Pack Size Frequency');"
   ]
  },
  {
   "cell_type": "code",
   "execution_count": 35,
   "metadata": {
    "scrolled": true
   },
   "outputs": [
    {
     "data": {
      "image/png": "[encoded data removed]",
      "text/plain": [
       "<Figure size 576x432 with 1 Axes>"
      ]
     },
     "metadata": {
      "needs_background": "light"
     },
     "output_type": "display_data"
    }
   ],
   "source": [
    "#Which packet size producing highest total sales\n",
    "plt.figure(figsize=(8,6))\n",
    "plt.title(\"Product weight and Total sales \")\n",
    "plt.xticks(rotation=90)\n",
    "sns.barplot(y=merged.groupby(\"PROD_WEIGHT\").TOT_SALES.sum(), x=merged.PROD_WEIGHT.unique(),color=base_color)\n",
    "plt.ylabel('Total Sales')\n",
    "plt.xlabel('Product weight');"
   ]
  },
  {
   "cell_type": "markdown",
   "metadata": {},
   "source": [
    "As we can see that the most count of packsize is between 150~200, but the highiest total sale is the packsize of 380.Maybe the packsize of the 380g chips have higher price.  "
   ]
  },
  {
   "cell_type": "code",
   "execution_count": 59,
   "metadata": {},
   "outputs": [
    {
     "data": {
      "image/png": "[encoded data removed]",
      "text/plain": [
       "<Figure size 576x432 with 1 Axes>"
      ]
     },
     "metadata": {
      "needs_background": "light"
     },
     "output_type": "display_data"
    }
   ],
   "source": [
    "# Most frequently purchased brand name\n",
    "plt.figure(figsize=(8,6))\n",
    "plt.xticks(rotation=90) \n",
    "sns.barplot(y=merged.BRAND.value_counts(),x=merged.BRAND.unique(),color=base_color);\n",
    "plt.xlabel(\"Brand\")\n",
    "plt.ylabel(\"Counts\");"
   ]
  },
  {
   "cell_type": "code",
   "execution_count": 58,
   "metadata": {
    "scrolled": true
   },
   "outputs": [
    {
     "data": {
      "image/png": "[encoded data removed]",
      "text/plain": [
       "<Figure size 576x432 with 1 Axes>"
      ]
     },
     "metadata": {
      "needs_background": "light"
     },
     "output_type": "display_data"
    }
   ],
   "source": [
    "# Brand producing highest total sales\n",
    "plt.figure(figsize=(8,6))\n",
    "plt.xticks(rotation=90) \n",
    "tot=merged.groupby('BRAND',as_index=False)['TOT_SALES'].sum().sort_values(by=['TOT_SALES'])\n",
    "sns.barplot(data=tot,y='TOT_SALES',x='BRAND',color=base_color,);\n",
    "plt.xlabel(\"Brand\")\n",
    "plt.ylabel(\"Total Sales\");"
   ]
  },
  {
   "cell_type": "markdown",
   "metadata": {},
   "source": [
    "The most counts brand is natural but the highest total sales brand is Kette. "
   ]
  },
  {
   "cell_type": "code",
   "execution_count": 38,
   "metadata": {
    "scrolled": true
   },
   "outputs": [
    {
     "data": {
      "text/html": [
       "<div>\n",
       "<style scoped>\n",
       "    .dataframe tbody tr th:only-of-type {\n",
       "        vertical-align: middle;\n",
       "    }\n",
       "\n",
       "    .dataframe tbody tr th {\n",
       "        vertical-align: top;\n",
       "    }\n",
       "\n",
       "    .dataframe thead th {\n",
       "        text-align: right;\n",
       "    }\n",
       "</style>\n",
       "<table border=\"1\" class=\"dataframe\">\n",
       "  <thead>\n",
       "    <tr style=\"text-align: right;\">\n",
       "      <th></th>\n",
       "      <th>LIFESTAGE</th>\n",
       "      <th>TOT_SALES</th>\n",
       "    </tr>\n",
       "  </thead>\n",
       "  <tbody>\n",
       "    <tr>\n",
       "      <th>0</th>\n",
       "      <td>NEW FAMILIES</td>\n",
       "      <td>47347.95</td>\n",
       "    </tr>\n",
       "    <tr>\n",
       "      <th>1</th>\n",
       "      <td>MIDAGE SINGLES/COUPLES</td>\n",
       "      <td>172523.80</td>\n",
       "    </tr>\n",
       "    <tr>\n",
       "      <th>2</th>\n",
       "      <td>YOUNG SINGLES/COUPLES</td>\n",
       "      <td>243756.60</td>\n",
       "    </tr>\n",
       "    <tr>\n",
       "      <th>3</th>\n",
       "      <td>YOUNG FAMILIES</td>\n",
       "      <td>294627.90</td>\n",
       "    </tr>\n",
       "    <tr>\n",
       "      <th>4</th>\n",
       "      <td>OLDER FAMILIES</td>\n",
       "      <td>328519.90</td>\n",
       "    </tr>\n",
       "    <tr>\n",
       "      <th>5</th>\n",
       "      <td>RETIREES</td>\n",
       "      <td>342381.90</td>\n",
       "    </tr>\n",
       "    <tr>\n",
       "      <th>6</th>\n",
       "      <td>OLDER SINGLES/COUPLES</td>\n",
       "      <td>376013.65</td>\n",
       "    </tr>\n",
       "  </tbody>\n",
       "</table>\n",
       "</div>"
      ],
      "text/plain": [
       "                LIFESTAGE  TOT_SALES\n",
       "0            NEW FAMILIES   47347.95\n",
       "1  MIDAGE SINGLES/COUPLES  172523.80\n",
       "2   YOUNG SINGLES/COUPLES  243756.60\n",
       "3          YOUNG FAMILIES  294627.90\n",
       "4          OLDER FAMILIES  328519.90\n",
       "5                RETIREES  342381.90\n",
       "6   OLDER SINGLES/COUPLES  376013.65"
      ]
     },
     "execution_count": 38,
     "metadata": {},
     "output_type": "execute_result"
    }
   ],
   "source": [
    "life_sales=merged.groupby(['LIFESTAGE'],as_index=False)[\"TOT_SALES\"].sum().sort_values(by=['TOT_SALES'])\n",
    "life_sales=life_sales.reset_index(drop=True)\n",
    "life_sales"
   ]
  },
  {
   "cell_type": "code",
   "execution_count": 57,
   "metadata": {},
   "outputs": [
    {
     "data": {
      "image/png": "[encoded data removed]",
      "text/plain": [
       "<Figure size 576x432 with 1 Axes>"
      ]
     },
     "metadata": {
      "needs_background": "light"
     },
     "output_type": "display_data"
    }
   ],
   "source": [
    "plt.figure(figsize=(8,6))\n",
    "plt.xticks(rotation=90) \n",
    "sns.barplot(y=merged.LIFESTAGE.value_counts(),x=merged.LIFESTAGE.unique(),color=base_color);\n",
    "plt.xlabel(\"Life Stage\")\n",
    "plt.ylabel(\"Counts\");\n"
   ]
  },
  {
   "cell_type": "code",
   "execution_count": 56,
   "metadata": {},
   "outputs": [
    {
     "data": {
      "image/png": "[encoded data removed]",
      "text/plain": [
       "<Figure size 576x432 with 1 Axes>"
      ]
     },
     "metadata": {
      "needs_background": "light"
     },
     "output_type": "display_data"
    }
   ],
   "source": [
    "plt.figure(figsize=(8,6))\n",
    "plt.xticks(rotation=90) \n",
    "order=['NEW FAMILIES','MIDAGE SINGLES/COUPLES','YOUNG SINGLES/COUPLES','YOUNG FAMILIES','OLDER FAMILIES','RETIREES','OLDER SINGLES/COUPLES']\n",
    "sns.barplot(data=life_sales,y='TOT_SALES',x='LIFESTAGE',color=base_color,order=order);\n",
    "plt.xlabel(\"Brand\")\n",
    "plt.ylabel(\"Total Sales\");\n",
    "\n"
   ]
  },
  {
   "cell_type": "code",
   "execution_count": 54,
   "metadata": {},
   "outputs": [
    {
     "data": {
      "text/html": [
       "<div>\n",
       "<style scoped>\n",
       "    .dataframe tbody tr th:only-of-type {\n",
       "        vertical-align: middle;\n",
       "    }\n",
       "\n",
       "    .dataframe tbody tr th {\n",
       "        vertical-align: top;\n",
       "    }\n",
       "\n",
       "    .dataframe thead th {\n",
       "        text-align: right;\n",
       "    }\n",
       "</style>\n",
       "<table border=\"1\" class=\"dataframe\">\n",
       "  <thead>\n",
       "    <tr style=\"text-align: right;\">\n",
       "      <th></th>\n",
       "      <th>PREMIUM_CUSTOMER</th>\n",
       "      <th>TOT_SALES</th>\n",
       "    </tr>\n",
       "  </thead>\n",
       "  <tbody>\n",
       "    <tr>\n",
       "      <th>0</th>\n",
       "      <td>Premium</td>\n",
       "      <td>472899.45</td>\n",
       "    </tr>\n",
       "    <tr>\n",
       "      <th>1</th>\n",
       "      <td>Budget</td>\n",
       "      <td>631406.85</td>\n",
       "    </tr>\n",
       "    <tr>\n",
       "      <th>2</th>\n",
       "      <td>Mainstream</td>\n",
       "      <td>700865.40</td>\n",
       "    </tr>\n",
       "  </tbody>\n",
       "</table>\n",
       "</div>"
      ],
      "text/plain": [
       "  PREMIUM_CUSTOMER  TOT_SALES\n",
       "0          Premium  472899.45\n",
       "1           Budget  631406.85\n",
       "2       Mainstream  700865.40"
      ]
     },
     "execution_count": 54,
     "metadata": {},
     "output_type": "execute_result"
    }
   ],
   "source": [
    "pre_sales=merged.groupby(['PREMIUM_CUSTOMER'],as_index=False)[\"TOT_SALES\"].sum().sort_values(by=['TOT_SALES'])\n",
    "pre_sales=pre_sales.reset_index(drop=True)\n",
    "pre_sales.head()"
   ]
  },
  {
   "cell_type": "code",
   "execution_count": 49,
   "metadata": {
    "scrolled": true
   },
   "outputs": [
    {
     "data": {
      "image/png": "[encoded data removed]",
      "text/plain": [
       "<Figure size 720x576 with 1 Axes>"
      ]
     },
     "metadata": {
      "needs_background": "light"
     },
     "output_type": "display_data"
    }
   ],
   "source": [
    "plt.figure(figsize=(10,8))\n",
    "plt.xticks(rotation=90) \n",
    "sns.barplot(y=merged.PREMIUM_CUSTOMER.value_counts(),x=merged.PREMIUM_CUSTOMER.unique(),color=base_color);\n",
    "plt.xlabel(\"Premium Customer\")\n",
    "plt.ylabel(\"Counts\");"
   ]
  },
  {
   "cell_type": "code",
   "execution_count": 64,
   "metadata": {
    "scrolled": true
   },
   "outputs": [
    {
     "data": {
      "image/png": "[encoded data removed]",
      "text/plain": [
       "<Figure size 576x432 with 1 Axes>"
      ]
     },
     "metadata": {
      "needs_background": "light"
     },
     "output_type": "display_data"
    }
   ],
   "source": [
    "plt.figure(figsize=(8,6))\n",
    "plt.xticks(rotation=90) \n",
    "order=['Premium','Budget','Mainstream']\n",
    "sns.barplot(data=pre_sales,y='TOT_SALES',x='PREMIUM_CUSTOMER',color=base_color,order=order);\n",
    "plt.xlabel(\"Brand\")\n",
    "plt.ylabel(\"Total Sales\");"
   ]
  },
  {
   "cell_type": "markdown",
   "metadata": {},
   "source": [
    "Since our insights should have a commercial applicatipon,I decided to analysis the total sale as the main metric."
   ]
  },
  {
   "cell_type": "code",
   "execution_count": 80,
   "metadata": {
    "scrolled": true
   },
   "outputs": [
    {
     "data": {
      "image/png": "[encoded data removed]",
      "text/plain": [
       "<Figure size 720x576 with 2 Axes>"
      ]
     },
     "metadata": {
      "needs_background": "light"
     },
     "output_type": "display_data"
    }
   ],
   "source": [
    "LP_means=merged.groupby(['LIFESTAGE','PREMIUM_CUSTOMER']).mean()['TOT_SALES']\n",
    "LP_means=LP_means.reset_index(name=\"TOT_SALES_avg\")\n",
    "LP_means=LP_means.pivot(index='LIFESTAGE',columns='PREMIUM_CUSTOMER',values='TOT_SALES_avg')\n",
    "plt.figure(figsize = [10,8])\n",
    "plt.title('loan aoriginal amount by prosperscore and income range ');\n",
    "sns.heatmap(LP_means,annot=True,fmt='.1f',cbar_kws={'label':'mean(Total Sales)($)'},cmap=\"mako_r\",);"
   ]
  },
  {
   "cell_type": "code",
   "execution_count": 106,
   "metadata": {},
   "outputs": [
    {
     "data": {
      "image/png": "[encoded data removed]",
      "text/plain": [
       "<Figure size 576x432 with 1 Axes>"
      ]
     },
     "metadata": {
      "needs_background": "light"
     },
     "output_type": "display_data"
    }
   ],
   "source": [
    "fig = plt.figure(figsize = [8,6])\n",
    "g=sns.pointplot(data=merged,x ='PROD_WEIGHT',y ='TOT_SALES', hue='BRAND',\n",
    "           palette ='Blues', linestyles ='', dodge =0.2)\n",
    "plt.legend(loc='upper center', bbox_to_anchor=(1.20, 1.0), ncol=1) \n",
    "plt.title('Brand and Product ')\n",
    "plt.ylabel('Loan Original Amount($)')\n",
    "plt.xticks(rotation=90)\n",
    "plt.show();"
   ]
  },
  {
   "cell_type": "markdown",
   "metadata": {},
   "source": [
    "Conclusion:\n",
    "The Kettle brand has highest total sales , but the natural is the most frequently purchased brand.\n",
    "The most frequently purcahse product weight around 135-175, but product weight with 380 has highest total sales.\n",
    "The older singles/couples and retirees with budget and premium,young singles/couples and midage singles/couples with Mainstream has highest mean total sales.\n"
   ]
  }
 ],
 "metadata": {
  "kernelspec": {
   "display_name": "Python 3",
   "language": "python",
   "name": "python3"
  },
  "language_info": {
   "codemirror_mode": {
    "name": "ipython",
    "version": 3
   },
   "file_extension": ".py",
   "mimetype": "text/x-python",
   "name": "python",
   "nbconvert_exporter": "python",
   "pygments_lexer": "ipython3",
   "version": "3.8.5"
  }
 },
 "nbformat": 4,
 "nbformat_minor": 4
}
